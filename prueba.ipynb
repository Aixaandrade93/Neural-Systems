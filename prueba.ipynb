{
 "cells": [
  {
   "cell_type": "code",
   "execution_count": 12,
   "metadata": {
    "collapsed": false
   },
   "outputs": [],
   "source": [
    "using TaylorSeries"
   ]
  },
  {
   "cell_type": "code",
   "execution_count": 13,
   "metadata": {
    "collapsed": false
   },
   "outputs": [
    {
     "name": "stdout",
     "output_type": "stream",
     "text": [
      "0.4.1\n"
     ]
    }
   ],
   "source": [
    "println(VERSION)\n",
    "\n",
    "using Compat"
   ]
  },
  {
   "cell_type": "code",
   "execution_count": 3,
   "metadata": {
    "collapsed": false
   },
   "outputs": [
    {
     "data": {
      "text/plain": [
       "Prueba (generic function with 1 method)"
      ]
     },
     "execution_count": 3,
     "metadata": {},
     "output_type": "execute_result"
    },
    {
     "name": "stdout",
     "output_type": "stream",
     "text": [
      "4.1\n"
     ]
    }
   ],
   "source": [
    "# Función prueba probamos el integrador\n",
    "function Prueba{T<:Real}(vec::Array{T,1} , N::Int, t::Float64) # La función pide un arreglo con los puntos alrededor\n",
    "    # de los cuales se obtendrán las series, el máximo coeficiente N del polinomio de Taylor\n",
    "    xinT = Taylor1(vec[1], N)# Los primeros términos de la serie x0 y y0 \n",
    "    xexT = Taylor1(vec[2], N)\n",
    "    xMRT = Taylor1(vec[3], N)    \n",
    "    rT = Taylor1(vec[4], N)\n",
    "    ϕT = Taylor1(vec[5], N) \n",
    "    \n",
    "  \n",
    "\n",
    "    for k = 0:N-1\n",
    "        knext = k+1\n",
    "        # Las siguientes series contienen los coeficientes hasta k\n",
    "        # los cuales son necesarios en las ecuaciones de recurrencia\n",
    "        # para obtener el coeficiente k+1\n",
    "        xinTt = Taylor1( xinT.coeffs[1:k+1], k)\n",
    "        xexTt = Taylor1( xexT.coeffs[1:k+1], k)\n",
    "        xMRTt = Taylor1( xMRT.coeffs[1:k+1], k)\n",
    "        rTt = Taylor1( rT.coeffs[1:k+1], k)\n",
    "        ϕTt = Taylor1( ϕT.coeffs[1:k+1], k)\n",
    "        # Las ecuaciones de movimiento, determinadas\n",
    "   \n",
    "\n",
    "       \n",
    "       \n",
    "\n",
    "        \n",
    "        Dxin =cos(xinTt) #las ecuaciones para xinTt son solo cosenos, al integralos deberían dar fucniones sinusoidales\n",
    "        Dxex =cos(xexTt)\n",
    "        DxMR =cos(xMRTt)\n",
    "        Dr = cos(ϕTt)\n",
    "        Dϕ = cos(ϕTt)\n",
    "       \n",
    "        # Los términos k+1 están determinados por (1)\n",
    "        xinT.coeffs[knext+1]  = Dxin.coeffs[knext] / knext\n",
    "        xexT.coeffs[knext+1]  = Dxex.coeffs[knext] / knext\n",
    "        xMRT.coeffs[knext+1]  = DxMR.coeffs[knext] / knext\n",
    "        rT.coeffs[knext+1]  = Dr.coeffs[knext] / knext\n",
    "        ϕT.coeffs[knext+1]  = Dϕ.coeffs[knext] / knext\n",
    "    end\n",
    "    # Se devuelven los resultados\n",
    "    return Taylor1[xinT, xexT, xMRT, rT, ϕT]\n",
    "end"
   ]
  },
  {
   "cell_type": "code",
   "execution_count": 4,
   "metadata": {
    "collapsed": false
   },
   "outputs": [
    {
     "data": {
      "text/plain": [
       "paso (generic function with 1 method)"
      ]
     },
     "execution_count": 4,
     "metadata": {},
     "output_type": "execute_result"
    }
   ],
   "source": [
    "# Función paso: determina el tamaño de paso para la integración\n",
    "# por método de Taylor.\n",
    "function paso{T<:Real}(x::Taylor1{T}, epsilon::Float64)# Se introduce un polinomio de Taylor y el epsilon\n",
    "    k = x.order# Orden del polinomio\n",
    "    h = 1.0# Iniciamos h\n",
    "    for i in [k-1, k]# Iteramos solo para los dos primeros términos del polinomio\n",
    "        aux = abs( x.coeffs[i+1] )\n",
    "        h = min(h, (epsilon/aux)^(1.0/i))# Nos quedamos con el mínimo\n",
    "    end\n",
    "    return h # La función devuelve h\n",
    "end"
   ]
  },
  {
   "cell_type": "code",
   "execution_count": 5,
   "metadata": {
    "collapsed": false
   },
   "outputs": [
    {
     "data": {
      "text/plain": [
       "evaluador (generic function with 1 method)"
      ]
     },
     "execution_count": 5,
     "metadata": {},
     "output_type": "execute_result"
    }
   ],
   "source": [
    "# Función evaluador: Determina los coeficientes después de cada paso.\n",
    "function evaluador{T<:Real}( Eqs::Function, vec0::Array{T,1}, N::Int, epsilon::Float64, t::Float64)# La función solicita las ecuaciones\n",
    "    # a resolver, un arreglo de condiciones iniciales, N que indica el máximo coeficiente de expansión y la epsilón.\n",
    "    \n",
    "    n = length(vec0)# Definimos algunas cantidades de utilidad\n",
    "    vec1T = Eqs(vec0, N, t)# Resolvemos las ecuaciones con las condiciones iniciales\n",
    "    \n",
    "    # Obtenemos h para cada serie usando la función paso\n",
    "    hh = vec0\n",
    "    for i in eachindex(vec1T)\n",
    "        hh[i] = paso(vec1T[i], epsilon)\n",
    "    end\n",
    "    \n",
    "    # Tomamos el mínimo de los h's\n",
    "    hfin = hh[1]\n",
    "    for i in eachindex(hh)\n",
    "        hfin = min(hfin,hh[i])\n",
    "    end\n",
    "    \n",
    "    # Se determinan los valores del nuevo arreglo\n",
    "    for i=1:n\n",
    "        vec0[i] = evaluate(vec1T[i], hfin)\n",
    "    end\n",
    "    \n",
    "    return hfin, vec0# Devolvemos los resultados\n",
    "end"
   ]
  },
  {
   "cell_type": "code",
   "execution_count": 6,
   "metadata": {
    "collapsed": false
   },
   "outputs": [
    {
     "data": {
      "text/plain": [
       "Integrador_1 (generic function with 1 method)"
      ]
     },
     "execution_count": 6,
     "metadata": {},
     "output_type": "execute_result"
    }
   ],
   "source": [
    "# Función Integrador_1: contiene las ecuaciones a resolver usando el método de integración de Taylor\n",
    "function Integrador_1(t_max::Float64, Eqs::Function, epsilon::Float64, N::Int,xin0, xex0, xMR0, r0, ϕ0)\n",
    "    # Usará las funciones antes desarrolladas, este función pide un tiempo máximo de operación, las ecuaciones\n",
    "    # a resolver, el epsilón y el orden del polinomio de Taylor\n",
    "    t0 = 0.0# Iniciamos el tiempo\n",
    "   # xin0, xex0, xMR0, r0, ϕ0 =x0# Condiciones iniciales. AIXA: Te recomiendo que juegues con\n",
    "    # las condiciones iniciales, aquí debe de estar el truco para obtener las gráficas que queriamos.\n",
    "    \n",
    "    \n",
    "    tV, xinV, xexV, xMRV, rV, ϕV = Float64[], Float64[], Float64[], Float64[], Float64[], Float64[]# Aquí se ubicarán los resultados\n",
    "    push!(tV, t0)\n",
    "    push!(xinV, xin0)# COlocamos condiciones iniciales\n",
    "    push!(xexV, xex0)\n",
    "    push!(xMRV, xMR0)\n",
    "    push!(rV, r0)\n",
    "    push!(ϕV, ϕ0)\n",
    "\n",
    "    # Resolvemos para cada tiempo\n",
    "    dt = 1.0# Paso inicial\n",
    "    while t0 < t_max && dt>1.0e-8# Condiciones de paro\n",
    "        \n",
    "        dt, res = evaluador(Eqs, [xin0, xex0, xMR0, r0, ϕ0], N, epsilon, t0)# Resolvemos\n",
    "        t0 += dt# A t0 se le suma el tamaño de paso\n",
    "        push!(tV,t0)\n",
    "        push!(xinV,res[1])# Los resultados se guardan\n",
    "        push!(xexV,res[2])\n",
    "        push!(xMRV,res[3])# Los resultados se guardan\n",
    "        push!(rV,res[4])\n",
    "        push!(ϕV,res[5])\n",
    "        xin0, xex0, xMR0, r0, ϕ0 = res[1], res[2], res[3], res[4], res[5]# Nuevas condiciones iniciales\n",
    "    end\n",
    "\n",
    "    return tV, xinV, xexV, xMRV, rV, ϕV# Devuelve los resultados\n",
    "end"
   ]
  },
  {
   "cell_type": "code",
   "execution_count": 14,
   "metadata": {
    "collapsed": false
   },
   "outputs": [],
   "source": [
    "rest, resxin, resxex, resxMR, resr, resϕ = Integrador_1(500.0,Prueba,10.0^(-10),20,1,π/3,2*π,1.0,0.0);"
   ]
  },
  {
   "cell_type": "code",
   "execution_count": 15,
   "metadata": {
    "collapsed": false
   },
   "outputs": [],
   "source": [
    "using PyPlot"
   ]
  },
  {
   "cell_type": "code",
   "execution_count": 16,
   "metadata": {
    "collapsed": false
   },
   "outputs": [
    {
     "data": {
      "image/png": "[encoded data removed]",
      "text/plain": [
       "PyPlot.Figure(PyObject <matplotlib.figure.Figure object at 0x7fadb16b5048>)"
      ]
     },
     "metadata": {},
     "output_type": "display_data"
    },
    {
     "data": {
      "text/plain": [
       "1-element Array{Any,1}:\n",
       " PyObject <matplotlib.lines.Line2D object at 0x7fadb1604668>"
      ]
     },
     "execution_count": 16,
     "metadata": {},
     "output_type": "execute_result"
    }
   ],
   "source": [
    "plot(rest,resxin)"
   ]
  },
  {
   "cell_type": "markdown",
   "metadata": {},
   "source": [
    "# No sirve el integrador"
   ]
  },
  {
   "cell_type": "code",
   "execution_count": null,
   "metadata": {
    "collapsed": true
   },
   "outputs": [],
   "source": []
  }
 ],
 "metadata": {
  "kernelspec": {
   "display_name": "Julia 0.4.1",
   "language": "julia",
   "name": "julia-0.4"
  },
  "language_info": {
   "file_extension": ".jl",
   "mimetype": "application/julia",
   "name": "julia",
   "version": "0.4.1"
  }
 },
 "nbformat": 4,
 "nbformat_minor": 0
}
